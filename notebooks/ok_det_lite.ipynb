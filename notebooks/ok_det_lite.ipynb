{
 "cells": [
  {
   "cell_type": "code",
   "execution_count": null,
   "id": "052a8ffa",
   "metadata": {},
   "outputs": [],
   "source": [
    "import os\n",
    "from setup import setup_ok_det, ok_det_run"
   ]
  },
  {
   "cell_type": "code",
   "execution_count": null,
   "id": "0def78b0",
   "metadata": {},
   "outputs": [],
   "source": [
    "image_path = 'avengers.jpg'\n",
    "# image_path = 'mission_impossible.jpg'\n",
    "# image_path = 'fighter_jets.jpg'\n",
    "# image_path = 'formula_cars.jpg'\n",
    "# image_path = 'grizzly_salmon.jpg'\n",
    "# image_path = 'lebron_james.jpg'\n",
    "# image_path = 'mahomes.jpg'\n",
    "# image_path = 'pilots_runway.jpg'\n",
    "# image_path = 'shark.jpg'\n",
    "\n",
    "image_path = os.path.join('..', 'assets', image_name)"
   ]
  },
  {
   "cell_type": "code",
   "execution_count": null,
   "id": "a4f566c1",
   "metadata": {},
   "outputs": [],
   "source": [
    "generator, interpreter, init_state, image = setup_ok_det(image_path, dataset='okDet')\n",
    "image"
   ]
  },
  {
   "cell_type": "code",
   "execution_count": null,
   "id": "f3ff9730",
   "metadata": {},
   "outputs": [],
   "source": [
    "instruction = \"Tag these marvel superheros\"\n",
    "# instruction = \"Tag the green superhero\"\n",
    "# instruction = \"Tag the most muscular superhero\"\n",
    "# instruction = \"Tag the superhero who is played by Scarlet Johanson\""
   ]
  },
  {
   "cell_type": "code",
   "execution_count": null,
   "id": "9d210977",
   "metadata": {
    "scrolled": false
   },
   "outputs": [],
   "source": [
    "result = ok_det_run(instruction, generator, interpreter, init_state)\n",
    "result"
   ]
  },
  {
   "cell_type": "code",
   "execution_count": null,
   "id": "986a74b0",
   "metadata": {},
   "outputs": [],
   "source": []
  }
 ],
 "metadata": {
  "kernelspec": {
   "display_name": "Python 3 (ipykernel)",
   "language": "python",
   "name": "python3"
  },
  "language_info": {
   "codemirror_mode": {
    "name": "ipython",
    "version": 3
   },
   "file_extension": ".py",
   "mimetype": "text/x-python",
   "name": "python",
   "nbconvert_exporter": "python",
   "pygments_lexer": "ipython3",
   "version": "3.10.9"
  }
 },
 "nbformat": 4,
 "nbformat_minor": 5
}
