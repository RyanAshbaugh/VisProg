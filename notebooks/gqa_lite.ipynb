{
 "cells": [
  {
   "cell_type": "code",
   "execution_count": null,
   "id": "2291d81d",
   "metadata": {
    "scrolled": true
   },
   "outputs": [],
   "source": [
    "import os\n",
    "from setup import setup, run_gqa"
   ]
  },
  {
   "cell_type": "code",
   "execution_count": null,
   "id": "5167f2a1",
   "metadata": {},
   "outputs": [],
   "source": [
    "image_name = 'mission_impossible.jpg'\n",
    "# image_path = 'avengers.jpg'\n",
    "# image_path = 'fighter_jets.jpg'\n",
    "# image_path = 'formula_cars.jpg'\n",
    "# image_path = 'grizzly_salmon.jpg'\n",
    "# image_path = 'lebron_james.jpg'\n",
    "# image_path = 'mahomes.jpg'\n",
    "# image_path = 'pilots_runway.jpg'\n",
    "# image_path = 'shark.jpg'\n",
    "\n",
    "image_path = os.path.join('..', 'assets', image_name)"
   ]
  },
  {
   "cell_type": "code",
   "execution_count": null,
   "id": "a229462c",
   "metadata": {
    "scrolled": false
   },
   "outputs": [],
   "source": [
    "generator, interpreter, init_state, image = setup(image_path, dataset='gqa')\n",
    "image"
   ]
  },
  {
   "cell_type": "code",
   "execution_count": null,
   "id": "a6ceaa10",
   "metadata": {},
   "outputs": [],
   "source": [
    "question = \"How many people are in the image?\"\n",
    "# question = \"Is the person below the motorcyle?\"\n",
    "# question = \"What kind of vehicle is in the image?\"\n",
    "# question = \"What is the person in the image doing?\"\n",
    "# question = \"Is the motorcycle in the image right side up?\"\n",
    "# question = \"Can motorcycles fly?\""
   ]
  },
  {
   "cell_type": "code",
   "execution_count": null,
   "id": "a57574e9",
   "metadata": {},
   "outputs": [],
   "source": [
    "result = run_gqa(question, generator, interpreter, init_state)"
   ]
  },
  {
   "cell_type": "code",
   "execution_count": null,
   "id": "dd786625",
   "metadata": {},
   "outputs": [],
   "source": []
  }
 ],
 "metadata": {
  "kernelspec": {
   "display_name": "Python 3 (ipykernel)",
   "language": "python",
   "name": "python3"
  },
  "language_info": {
   "codemirror_mode": {
    "name": "ipython",
    "version": 3
   },
   "file_extension": ".py",
   "mimetype": "text/x-python",
   "name": "python",
   "nbconvert_exporter": "python",
   "pygments_lexer": "ipython3",
   "version": "3.10.9"
  }
 },
 "nbformat": 4,
 "nbformat_minor": 5
}
